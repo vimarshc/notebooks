{
 "cells": [
  {
   "cell_type": "code",
   "execution_count": 47,
   "id": "finnish-asbestos",
   "metadata": {},
   "outputs": [
    {
     "name": "stdout",
     "output_type": "stream",
     "text": [
      "--2021-02-28 07:16:28--  https://raw.githubusercontent.com/karpathy/minGPT/master/play_image.ipynb\n",
      "Resolving raw.githubusercontent.com (raw.githubusercontent.com)... 185.199.109.133, 185.199.111.133, 185.199.110.133, ...\n",
      "Connecting to raw.githubusercontent.com (raw.githubusercontent.com)|185.199.109.133|:443... connected.\n",
      "HTTP request sent, awaiting response... 200 OK\n",
      "Length: 812633 (794K) [text/plain]\n",
      "Saving to: ‘play_image.ipynb’\n",
      "\n",
      "play_image.ipynb    100%[===================>] 793.59K  --.-KB/s    in 0.1s    \n",
      "\n",
      "2021-02-28 07:16:34 (7.67 MB/s) - ‘play_image.ipynb’ saved [812633/812633]\n",
      "\n"
     ]
    }
   ],
   "source": [
    "! wget https://raw.githubusercontent.com/karpathy/minGPT/master/play_image.ipynb"
   ]
  },
  {
   "cell_type": "code",
   "execution_count": 39,
   "id": "hollywood-cutting",
   "metadata": {},
   "outputs": [],
   "source": [
    "! mkdir logs"
   ]
  },
  {
   "cell_type": "code",
   "execution_count": 40,
   "id": "short-hazard",
   "metadata": {},
   "outputs": [
    {
     "name": "stdout",
     "output_type": "stream",
     "text": [
      "events.out.tfevents.1614494731.f1550292c33c.441.0  tensorboard_test.ipynb\n",
      "logs\t\t\t\t\t\t   tmp\n"
     ]
    }
   ],
   "source": [
    "! ls "
   ]
  },
  {
   "cell_type": "code",
   "execution_count": 41,
   "id": "aboriginal-wings",
   "metadata": {},
   "outputs": [],
   "source": [
    "! mv events.out.tfevents.1614494731.f1550292c33c.441.0 logs/"
   ]
  },
  {
   "cell_type": "code",
   "execution_count": 3,
   "id": "dependent-thinking",
   "metadata": {},
   "outputs": [
    {
     "name": "stdout",
     "output_type": "stream",
     "text": [
      "Collecting fastai\n",
      "  Downloading fastai-2.2.7-py3-none-any.whl (193 kB)\n",
      "\u001b[K     |████████████████████████████████| 193 kB 5.7 MB/s eta 0:00:01\n",
      "\u001b[?25hRequirement already satisfied: scikit-learn in /opt/conda/lib/python3.6/site-packages (from fastai) (0.23.2)\n",
      "Requirement already satisfied: requests in /opt/conda/lib/python3.6/site-packages (from fastai) (2.24.0)\n",
      "Collecting torchvision<0.9,>=0.8\n",
      "  Downloading torchvision-0.8.2-cp36-cp36m-manylinux1_x86_64.whl (12.8 MB)\n",
      "\u001b[K     |████████████████████████████████| 12.8 MB 2.4 MB/s eta 0:00:01\n",
      "\u001b[?25hRequirement already satisfied: pyyaml in /opt/conda/lib/python3.6/site-packages (from fastai) (5.3.1)\n",
      "Collecting torch<1.8,>=1.7.0\n",
      "  Downloading torch-1.7.1-cp36-cp36m-manylinux1_x86_64.whl (776.8 MB)\n",
      "\u001b[K     |█████████████                   | 314.6 MB 112.3 MB/s eta 0:00:05"
     ]
    },
    {
     "name": "stderr",
     "output_type": "stream",
     "text": [
      "IOPub data rate exceeded.\n",
      "The notebook server will temporarily stop sending output\n",
      "to the client in order to avoid crashing it.\n",
      "To change this limit, set the config variable\n",
      "`--NotebookApp.iopub_data_rate_limit`.\n",
      "\n",
      "Current values:\n",
      "NotebookApp.iopub_data_rate_limit=1000000.0 (bytes/sec)\n",
      "NotebookApp.rate_limit_window=3.0 (secs)\n",
      "\n"
     ]
    },
    {
     "name": "stdout",
     "output_type": "stream",
     "text": [
      "\u001b[K     |███████████████████████████▌    | 666.9 MB 125.3 MB/s eta 0:00:01"
     ]
    },
    {
     "name": "stderr",
     "output_type": "stream",
     "text": [
      "IOPub data rate exceeded.\n",
      "The notebook server will temporarily stop sending output\n",
      "to the client in order to avoid crashing it.\n",
      "To change this limit, set the config variable\n",
      "`--NotebookApp.iopub_data_rate_limit`.\n",
      "\n",
      "Current values:\n",
      "NotebookApp.iopub_data_rate_limit=1000000.0 (bytes/sec)\n",
      "NotebookApp.rate_limit_window=3.0 (secs)\n",
      "\n"
     ]
    },
    {
     "name": "stdout",
     "output_type": "stream",
     "text": [
      "\u001b[K     |████████████████████████████████| 776.8 MB 35 kB/s \n",
      "\u001b[?25hRequirement already satisfied: matplotlib in /opt/conda/lib/python3.6/site-packages (from fastai) (3.3.2)\n",
      "Requirement already satisfied: scipy in /opt/conda/lib/python3.6/site-packages (from fastai) (1.5.2)\n",
      "Collecting fastprogress>=0.2.4\n",
      "  Downloading fastprogress-1.0.0-py3-none-any.whl (12 kB)\n",
      "Requirement already satisfied: spacy<3 in /opt/conda/lib/python3.6/site-packages (from fastai) (2.3.2)\n",
      "Requirement already satisfied: pandas in /opt/conda/lib/python3.6/site-packages (from fastai) (0.24.2)\n",
      "Requirement already satisfied: pillow>6.0.0 in /opt/conda/lib/python3.6/site-packages (from fastai) (8.1.0)\n",
      "Requirement already satisfied: packaging in /opt/conda/lib/python3.6/site-packages (from fastai) (20.9)\n",
      "Requirement already satisfied: pip in /opt/conda/lib/python3.6/site-packages (from fastai) (20.2.3)\n",
      "Collecting fastcore<1.4,>=1.3.8\n",
      "  Downloading fastcore-1.3.19-py3-none-any.whl (53 kB)\n",
      "\u001b[K     |████████████████████████████████| 53 kB 3.9 MB/s  eta 0:00:01\n",
      "\u001b[?25hRequirement already satisfied: joblib>=0.11 in /opt/conda/lib/python3.6/site-packages (from scikit-learn->fastai) (0.17.0)\n",
      "Requirement already satisfied: threadpoolctl>=2.0.0 in /opt/conda/lib/python3.6/site-packages (from scikit-learn->fastai) (2.1.0)\n",
      "Requirement already satisfied: numpy>=1.13.3 in /opt/conda/lib/python3.6/site-packages (from scikit-learn->fastai) (1.19.1)\n",
      "Requirement already satisfied: certifi>=2017.4.17 in /opt/conda/lib/python3.6/site-packages (from requests->fastai) (2020.12.5)\n",
      "Requirement already satisfied: idna<3,>=2.5 in /opt/conda/lib/python3.6/site-packages (from requests->fastai) (2.9)\n",
      "Requirement already satisfied: urllib3!=1.25.0,!=1.25.1,<1.26,>=1.21.1 in /opt/conda/lib/python3.6/site-packages (from requests->fastai) (1.25.10)\n",
      "Requirement already satisfied: chardet<4,>=3.0.2 in /opt/conda/lib/python3.6/site-packages (from requests->fastai) (3.0.4)\n",
      "Requirement already satisfied: dataclasses; python_version < \"3.7\" in /opt/conda/lib/python3.6/site-packages (from torch<1.8,>=1.7.0->fastai) (0.7)\n",
      "Requirement already satisfied: typing-extensions in /opt/conda/lib/python3.6/site-packages (from torch<1.8,>=1.7.0->fastai) (3.7.4.3)\n",
      "Requirement already satisfied: kiwisolver>=1.0.1 in /opt/conda/lib/python3.6/site-packages (from matplotlib->fastai) (1.2.0)\n",
      "Requirement already satisfied: cycler>=0.10 in /opt/conda/lib/python3.6/site-packages (from matplotlib->fastai) (0.10.0)\n",
      "Requirement already satisfied: pyparsing!=2.0.4,!=2.1.2,!=2.1.6,>=2.0.3 in /opt/conda/lib/python3.6/site-packages (from matplotlib->fastai) (2.4.7)\n",
      "Requirement already satisfied: python-dateutil>=2.1 in /opt/conda/lib/python3.6/site-packages (from matplotlib->fastai) (2.8.1)\n",
      "Requirement already satisfied: wasabi<1.1.0,>=0.4.0 in /opt/conda/lib/python3.6/site-packages (from spacy<3->fastai) (0.8.0)\n",
      "Requirement already satisfied: blis<0.5.0,>=0.4.0 in /opt/conda/lib/python3.6/site-packages (from spacy<3->fastai) (0.4.1)\n",
      "Requirement already satisfied: thinc==7.4.1 in /opt/conda/lib/python3.6/site-packages (from spacy<3->fastai) (7.4.1)\n",
      "Requirement already satisfied: cymem<2.1.0,>=2.0.2 in /opt/conda/lib/python3.6/site-packages (from spacy<3->fastai) (2.0.3)\n",
      "Collecting tqdm<5.0.0,>=4.38.0\n",
      "  Downloading tqdm-4.58.0-py2.py3-none-any.whl (73 kB)\n",
      "\u001b[K     |████████████████████████████████| 73 kB 3.4 MB/s  eta 0:00:01\n",
      "\u001b[?25hRequirement already satisfied: catalogue<1.1.0,>=0.0.7 in /opt/conda/lib/python3.6/site-packages (from spacy<3->fastai) (1.0.0)\n",
      "Requirement already satisfied: srsly<1.1.0,>=1.0.2 in /opt/conda/lib/python3.6/site-packages (from spacy<3->fastai) (1.0.2)\n",
      "Requirement already satisfied: plac<1.2.0,>=0.9.6 in /opt/conda/lib/python3.6/site-packages (from spacy<3->fastai) (0.9.6)\n",
      "Requirement already satisfied: murmurhash<1.1.0,>=0.28.0 in /opt/conda/lib/python3.6/site-packages (from spacy<3->fastai) (1.0.2)\n",
      "Requirement already satisfied: setuptools in /opt/conda/lib/python3.6/site-packages (from spacy<3->fastai) (50.3.0.post20201006)\n",
      "Requirement already satisfied: preshed<3.1.0,>=3.0.2 in /opt/conda/lib/python3.6/site-packages (from spacy<3->fastai) (3.0.2)\n",
      "Requirement already satisfied: pytz>=2011k in /opt/conda/lib/python3.6/site-packages (from pandas->fastai) (2020.1)\n",
      "Requirement already satisfied: six in /opt/conda/lib/python3.6/site-packages (from cycler>=0.10->matplotlib->fastai) (1.15.0)\n",
      "Requirement already satisfied: importlib-metadata>=0.20; python_version < \"3.8\" in /opt/conda/lib/python3.6/site-packages (from catalogue<1.1.0,>=0.0.7->spacy<3->fastai) (2.0.0)\n",
      "Requirement already satisfied: zipp>=0.5 in /opt/conda/lib/python3.6/site-packages (from importlib-metadata>=0.20; python_version < \"3.8\"->catalogue<1.1.0,>=0.0.7->spacy<3->fastai) (3.3.0)\n",
      "Installing collected packages: torch, torchvision, fastprogress, fastcore, fastai, tqdm\n",
      "  Attempting uninstall: torch\n",
      "    Found existing installation: torch 1.7.0a0+7036e91\n",
      "    Uninstalling torch-1.7.0a0+7036e91:\n",
      "      Successfully uninstalled torch-1.7.0a0+7036e91\n",
      "  Attempting uninstall: torchvision\n",
      "    Found existing installation: torchvision 0.8.0a0\n",
      "    Uninstalling torchvision-0.8.0a0:\n",
      "      Successfully uninstalled torchvision-0.8.0a0\n",
      "  Attempting uninstall: tqdm\n",
      "    Found existing installation: tqdm 4.31.1\n",
      "    Uninstalling tqdm-4.31.1:\n",
      "      Successfully uninstalled tqdm-4.31.1\n",
      "Successfully installed fastai-2.2.7 fastcore-1.3.19 fastprogress-1.0.0 torch-1.7.1 torchvision-0.8.2 tqdm-4.58.0\n"
     ]
    }
   ],
   "source": [
    "! pip install fastai"
   ]
  },
  {
   "cell_type": "code",
   "execution_count": 18,
   "id": "unusual-accent",
   "metadata": {},
   "outputs": [],
   "source": [
    "from fastai.data.external import untar_data,URLs"
   ]
  },
  {
   "cell_type": "code",
   "execution_count": 25,
   "id": "handled-tradition",
   "metadata": {},
   "outputs": [],
   "source": [
    "from fastai.data.block import * "
   ]
  },
  {
   "cell_type": "code",
   "execution_count": 27,
   "id": "paperback-yesterday",
   "metadata": {},
   "outputs": [],
   "source": [
    "from fastai.vision.all import * "
   ]
  },
  {
   "cell_type": "code",
   "execution_count": 19,
   "id": "addressed-allah",
   "metadata": {},
   "outputs": [
    {
     "data": {
      "text/html": [],
      "text/plain": [
       "<IPython.core.display.HTML object>"
      ]
     },
     "metadata": {},
     "output_type": "display_data"
    }
   ],
   "source": [
    "path = untar_data(URLs.PETS)"
   ]
  },
  {
   "cell_type": "code",
   "execution_count": 28,
   "id": "legislative-satellite",
   "metadata": {},
   "outputs": [],
   "source": [
    "db = DataBlock(blocks=(ImageBlock, CategoryBlock), \n",
    "                  get_items=get_image_files, \n",
    "                  item_tfms=Resize(128),\n",
    "                  splitter=RandomSubsetSplitter(train_sz=0.1, valid_sz=0.01),\n",
    "                  batch_tfms=aug_transforms(size=64),\n",
    "                  get_y=using_attr(RegexLabeller(r'(.+)_\\d+.*$'), 'name'))\n",
    "\n",
    "dls = db.dataloaders(path/'images')"
   ]
  },
  {
   "cell_type": "code",
   "execution_count": 31,
   "id": "raising-croatia",
   "metadata": {},
   "outputs": [],
   "source": [
    "learn = cnn_learner(dls, resnet18, metrics=accuracy)"
   ]
  },
  {
   "cell_type": "code",
   "execution_count": 33,
   "id": "instant-paradise",
   "metadata": {},
   "outputs": [],
   "source": [
    "from fastai.callback.tensorboard import * "
   ]
  },
  {
   "cell_type": "code",
   "execution_count": 43,
   "id": "dress-preserve",
   "metadata": {},
   "outputs": [
    {
     "data": {
      "text/html": [
       "<table border=\"1\" class=\"dataframe\">\n",
       "  <thead>\n",
       "    <tr style=\"text-align: left;\">\n",
       "      <th>epoch</th>\n",
       "      <th>train_loss</th>\n",
       "      <th>valid_loss</th>\n",
       "      <th>accuracy</th>\n",
       "      <th>time</th>\n",
       "    </tr>\n",
       "  </thead>\n",
       "  <tbody>\n",
       "    <tr>\n",
       "      <td>0</td>\n",
       "      <td>3.018548</td>\n",
       "      <td>4.242802</td>\n",
       "      <td>0.041096</td>\n",
       "      <td>00:02</td>\n",
       "    </tr>\n",
       "    <tr>\n",
       "      <td>1</td>\n",
       "      <td>2.977129</td>\n",
       "      <td>4.308667</td>\n",
       "      <td>0.041096</td>\n",
       "      <td>00:02</td>\n",
       "    </tr>\n",
       "    <tr>\n",
       "      <td>2</td>\n",
       "      <td>2.712427</td>\n",
       "      <td>4.097868</td>\n",
       "      <td>0.054795</td>\n",
       "      <td>00:02</td>\n",
       "    </tr>\n",
       "  </tbody>\n",
       "</table>"
      ],
      "text/plain": [
       "<IPython.core.display.HTML object>"
      ]
     },
     "metadata": {},
     "output_type": "display_data"
    }
   ],
   "source": [
    "learn.unfreeze()\n",
    "learn.fit_one_cycle(3, cbs=TensorBoardCallback(Path.home()/'logs', trace_model=True))\n",
    "\n"
   ]
  },
  {
   "cell_type": "code",
   "execution_count": 42,
   "id": "initial-punishment",
   "metadata": {},
   "outputs": [
    {
     "data": {
      "text/plain": [
       "Path('/home')"
      ]
     },
     "execution_count": 42,
     "metadata": {},
     "output_type": "execute_result"
    }
   ],
   "source": [
    "Path.home()"
   ]
  },
  {
   "cell_type": "code",
   "execution_count": null,
   "id": "worse-essence",
   "metadata": {},
   "outputs": [],
   "source": []
  }
 ],
 "metadata": {
  "kernelspec": {
   "display_name": "Python 3",
   "language": "python",
   "name": "python3"
  },
  "language_info": {
   "codemirror_mode": {
    "name": "ipython",
    "version": 3
   },
   "file_extension": ".py",
   "mimetype": "text/x-python",
   "name": "python",
   "nbconvert_exporter": "python",
   "pygments_lexer": "ipython3",
   "version": "3.6.10"
  }
 },
 "nbformat": 4,
 "nbformat_minor": 5
}
